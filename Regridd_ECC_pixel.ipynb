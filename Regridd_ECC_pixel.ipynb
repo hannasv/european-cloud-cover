{
 "cells": [
  {
   "cell_type": "markdown",
   "metadata": {},
   "source": [
    "# Example Regridding"
   ]
  },
  {
   "cell_type": "markdown",
   "metadata": {},
   "source": [
    "## 0. Download file from https://data.eumetsat.int/search?query= \n",
    "\n",
    "Use CDO (https://code.mpimet.mpg.de/projects/cdo/) to rename variales lat to latitude and lon to longitude."
   ]
  },
  {
   "cell_type": "markdown",
   "metadata": {},
   "source": [
    "## Prepare data from Eumetsat\n",
    "### open bash terminal \n",
    "```bash\n",
    "sudo apt-get install cdo\n",
    "ncdump -h filename.nc # displays variables \n",
    "cdo chname,lat,latitude,lon,longitude satfile.nc satfile_new_dimensions.nc\n",
    "```"
   ]
  },
  {
   "cell_type": "markdown",
   "metadata": {},
   "source": [
    "## 1. Read file and remove redundant categories (land and ocean without cloud cover)\n",
    "Download a file in netcdf-format to retrieve the coordinate information. Additional files was downloaded in .grb format to save space. Removing the four categories present in the file. "
   ]
  },
  {
   "cell_type": "code",
   "execution_count": 6,
   "metadata": {},
   "outputs": [],
   "source": [
    "import xarray as xr\n",
    "satfil = 'satfile_new_dimensions.nc'\n",
    "\n",
    "cloudMask = xr.open_dataset(satfil)"
   ]
  },
  {
   "cell_type": "code",
   "execution_count": 8,
   "metadata": {},
   "outputs": [
    {
     "data": {
      "text/plain": [
       "KeysView(<xarray.Dataset>\n",
       "Dimensions:    (x: 3712, y: 3712)\n",
       "Dimensions without coordinates: x, y\n",
       "Data variables:\n",
       "    cloudMask  (y, x) float32 ...\n",
       "    latitude   (y, x) float32 ...\n",
       "    longitude  (y, x) float32 ...\n",
       "Attributes: (12/23)\n",
       "    CDI:                             Climate Data Interface version ?? (http:...\n",
       "    Conventions:                     CF-1.0\n",
       "    history:                         Mon Oct 25 21:57:45 2021: cdo chname,lat...\n",
       "    source:                          /data/products/1338648/MSG4-SEVI-MSGCLMK...\n",
       "    institution:                     EUMETSAT\n",
       "    creator_name:                    EUMETSAT\n",
       "    ...                              ...\n",
       "    GRIB_param_Nx:                   3712\n",
       "    GRIB_param_Ny:                   3712\n",
       "    GRIB_orgReferenceTime:           20190612113000\n",
       "    time_coverage_start:             20190612113000\n",
       "    time_coverage_end:               20190612113000\n",
       "    CDO:                             Climate Data Operators version 1.7.0 (ht...)"
      ]
     },
     "execution_count": 8,
     "metadata": {},
     "output_type": "execute_result"
    }
   ],
   "source": [
    "cloudMask.keys()"
   ]
  },
  {
   "cell_type": "code",
   "execution_count": 17,
   "metadata": {},
   "outputs": [],
   "source": [
    "idx = int(3712/2)"
   ]
  },
  {
   "cell_type": "markdown",
   "metadata": {},
   "source": [
    "### Cloud Mask"
   ]
  },
  {
   "cell_type": "code",
   "execution_count": 20,
   "metadata": {},
   "outputs": [
    {
     "data": {
      "text/plain": [
       "0.0"
      ]
     },
     "execution_count": 20,
     "metadata": {},
     "output_type": "execute_result"
    }
   ],
   "source": [
    "cloudMask.cloudMask.values[idx][idx]"
   ]
  },
  {
   "cell_type": "markdown",
   "metadata": {},
   "source": [
    "### Latitude "
   ]
  },
  {
   "cell_type": "code",
   "execution_count": 18,
   "metadata": {},
   "outputs": [
    {
     "data": {
      "text/plain": [
       "0.027136307"
      ]
     },
     "execution_count": 18,
     "metadata": {},
     "output_type": "execute_result"
    }
   ],
   "source": [
    "cloudMask.latitude.values[idx][idx]"
   ]
  },
  {
   "cell_type": "markdown",
   "metadata": {},
   "source": [
    "## Longitude"
   ]
  },
  {
   "cell_type": "code",
   "execution_count": 19,
   "metadata": {},
   "outputs": [
    {
     "data": {
      "text/plain": [
       "0.0"
      ]
     },
     "execution_count": 19,
     "metadata": {},
     "output_type": "execute_result"
    }
   ],
   "source": [
    "cloudMask.longitude.values[idx][idx]"
   ]
  },
  {
   "cell_type": "markdown",
   "metadata": {},
   "source": [
    "## Categories \n",
    "* NaN - of earth disk \n",
    "* 0 - ocean\n",
    "* 1 - land\n",
    "* 2 - cloud "
   ]
  },
  {
   "cell_type": "code",
   "execution_count": 27,
   "metadata": {},
   "outputs": [
    {
     "data": {
      "text/plain": [
       "<matplotlib.collections.QuadMesh at 0x7fef8a4b0a90>"
      ]
     },
     "execution_count": 27,
     "metadata": {},
     "output_type": "execute_result"
    },
    {
     "data": {
      "image/png": "[encoded data removed]",
      "text/plain": [
       "<Figure size 432x288 with 2 Axes>"
      ]
     },
     "metadata": {
      "needs_background": "light"
     },
     "output_type": "display_data"
    }
   ],
   "source": [
    "cloudMask.cloudMask.plot()"
   ]
  },
  {
   "cell_type": "markdown",
   "metadata": {},
   "source": [
    "## 3. Regrid chosen ERA-pixel from test-file"
   ]
  },
  {
   "cell_type": "code",
   "execution_count": 1,
   "metadata": {},
   "outputs": [],
   "source": [
    "import json\n",
    "import glob\n",
    "\n",
    "import xarray as xr\n",
    "import numpy as np\n",
    "import pandas as pd\n",
    "\n",
    "from calc_fractional_cover import calc_fraction_one_cell, clean_file, save_dir, area_grid_cell, compute"
   ]
  },
  {
   "cell_type": "code",
   "execution_count": 2,
   "metadata": {},
   "outputs": [
    {
     "data": {
      "text/plain": [
       "\u001b[0;31mSignature:\u001b[0m \u001b[0mcompute\u001b[0m\u001b[0;34m(\u001b[0m\u001b[0msatfil\u001b[0m\u001b[0;34m,\u001b[0m \u001b[0mlats\u001b[0m\u001b[0;34m=\u001b[0m\u001b[0;32mNone\u001b[0m\u001b[0;34m,\u001b[0m \u001b[0mlons\u001b[0m\u001b[0;34m=\u001b[0m\u001b[0;32mNone\u001b[0m\u001b[0;34m)\u001b[0m\u001b[0;34m\u001b[0m\u001b[0;34m\u001b[0m\u001b[0m\n",
       "\u001b[0;31mDocstring:\u001b[0m\n",
       "Function for computing the cloudfractions for lists of latitudes and longitudes.\n",
       "\n",
       "Parameters \n",
       "    satfil (str) : filename\n",
       "    lats List[str]: list of latitude values  \n",
       "    lons List[str]: list of longitudinal values\n",
       "    \n",
       "Returns\n",
       "    fractions (pd.DataFrame) : pandas dataframe of the fractions \n",
       "    pair (List[Tuple[str, str]\n",
       "\u001b[0;31mFile:\u001b[0m      ~/european-cloud-cover/calc_fractional_cover.py\n",
       "\u001b[0;31mType:\u001b[0m      function\n"
      ]
     },
     "metadata": {},
     "output_type": "display_data"
    }
   ],
   "source": [
    "compute?"
   ]
  },
  {
   "cell_type": "code",
   "execution_count": 5,
   "metadata": {},
   "outputs": [],
   "source": [
    "lats=['45.25']\n",
    "lons=['-15.0']\n",
    "satfil = 'satfile_new_dimensions.nc'\n",
    "fraction, _ = compute(satfil=satfil, lats=lats, lons=lons)"
   ]
  },
  {
   "cell_type": "code",
   "execution_count": 6,
   "metadata": {},
   "outputs": [
    {
     "data": {
      "text/html": [
       "<div>\n",
       "<style scoped>\n",
       "    .dataframe tbody tr th:only-of-type {\n",
       "        vertical-align: middle;\n",
       "    }\n",
       "\n",
       "    .dataframe tbody tr th {\n",
       "        vertical-align: top;\n",
       "    }\n",
       "\n",
       "    .dataframe thead th {\n",
       "        text-align: right;\n",
       "    }\n",
       "</style>\n",
       "<table border=\"1\" class=\"dataframe\">\n",
       "  <thead>\n",
       "    <tr style=\"text-align: right;\">\n",
       "      <th></th>\n",
       "      <th>45.25</th>\n",
       "    </tr>\n",
       "  </thead>\n",
       "  <tbody>\n",
       "    <tr>\n",
       "      <th>-15.0</th>\n",
       "      <td>0.962447</td>\n",
       "    </tr>\n",
       "  </tbody>\n",
       "</table>\n",
       "</div>"
      ],
      "text/plain": [
       "          45.25\n",
       "-15.0  0.962447"
      ]
     },
     "execution_count": 6,
     "metadata": {},
     "output_type": "execute_result"
    }
   ],
   "source": [
    "fraction"
   ]
  },
  {
   "cell_type": "markdown",
   "metadata": {},
   "source": [
    "# Read same grid and compare it to ECC"
   ]
  },
  {
   "cell_type": "code",
   "execution_count": 6,
   "metadata": {},
   "outputs": [
    {
     "data": {
      "text/plain": [
       "'20190612113000'"
      ]
     },
     "execution_count": 6,
     "metadata": {},
     "output_type": "execute_result"
    }
   ],
   "source": [
    "data = xr.open_dataset(satfil)\n",
    "data.time_coverage_start"
   ]
  },
  {
   "cell_type": "code",
   "execution_count": null,
   "metadata": {},
   "outputs": [],
   "source": []
  }
 ],
 "metadata": {
  "kernelspec": {
   "display_name": "Python 3",
   "language": "python",
   "name": "python3"
  },
  "language_info": {
   "codemirror_mode": {
    "name": "ipython",
    "version": 3
   },
   "file_extension": ".py",
   "mimetype": "text/x-python",
   "name": "python",
   "nbconvert_exporter": "python",
   "pygments_lexer": "ipython3",
   "version": "3.7.6"
  }
 },
 "nbformat": 4,
 "nbformat_minor": 4
}
